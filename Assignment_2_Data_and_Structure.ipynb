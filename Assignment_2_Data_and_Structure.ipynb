{
  "nbformat": 4,
  "nbformat_minor": 0,
  "metadata": {
    "colab": {
      "provenance": []
    },
    "kernelspec": {
      "name": "python3",
      "display_name": "Python 3"
    },
    "language_info": {
      "name": "python"
    }
  },
  "cells": [
    {
      "cell_type": "code",
      "execution_count": null,
      "metadata": {
        "id": "yL_kjeb9pUqp"
      },
      "outputs": [],
      "source": [
        "# Data Types and Structure Theorytical questions and answers"
      ]
    },
    {
      "cell_type": "markdown",
      "source": [],
      "metadata": {
        "id": "8iWUxhMUqqUe"
      }
    },
    {
      "cell_type": "markdown",
      "source": [
        "1. What are data structures and why are they important ?\n",
        "\n",
        "  Ans. Data structures are ways of organizing, storing, and managing data in a computer so that it can be accessed and modified efficiently. They provide a means to perform operations such as insertion, deletion, updating, searching, and traversing data.\n",
        "\n",
        "  In simpler terms, a data structure is like a container that holds data in a specific format, and the type of container you choose can have a huge impact on how efficiently you can work with that data. Example Array , list , linked list , Trees Etc.\n",
        "\n",
        "2. Difference between mutable and immutable data types ?\n",
        "\n",
        "  Ans. mutable and immutable refer to whether the state or value of a data object can be changed after it is created.\n",
        "\n",
        "   Mutable objects can be modified after they are created. Immutable objects cannot be modified after they are created; any operation that alters an immutable object results in the creation of a new object.\n",
        "   Mutable example - list , Array sets . Immutable examples - Touple\n",
        "\n",
        "3. Difference between list and touple ?\n",
        "\n",
        "  Ans. In Python, lists are mutable, meaning their elements can be modified, added, or removed after creation. This makes them more flexible for situations where you need to change the contents of the collection. Lists are defined using square brackets [ ], and they come with several methods like append(), remove(), and extend() to manipulate the data. However, this flexibility comes at the cost of higher memory usage and slightly slower performance compared to tuples.\n",
        "\n",
        "  Tuples are immutable, meaning once created, their contents cannot be altered. Tuples are defined using parentheses ( ), and any attempt to modify their elements results in an error. Because of their immutability, tuples are generally faster and more memory-efficient, making them ideal for use cases where the data should remain constant, such as storing coordinates or passing data between functions. Tuples are also hashable, which means they can be used as keys in dictionaries, unlike lists.\n",
        "\n",
        "4. How data is store in Dictionary ?\n",
        "\n",
        "  Ans. A dictionary in Python stores data in key-value pairs. Each piece of data (value) is associated with a unique identifier called a key. You can think of a dictionary like a real-world phonebook, where the name (key) maps to a phone number (value).\n",
        "\n",
        "5. Set Vs list ?\n",
        "\n",
        "  Ans. A set in Python is used instead of a list when you need to store only unique elements and avoid duplicates. Sets are faster for checking if an item exists, as they allow for quicker membership tests. Additionally, sets support useful mathematical operations like union and intersection, which lists don't offer directly.\n",
        "\n",
        "6. What is string in python and how it is different from a list?\n",
        "\n",
        "  Ans. A string in Python is a sequence of characters (like words or sentences) and cannot be changed once created. A list is a collection of items (such as numbers or strings) that can be modified, meaning you can add, remove, or change elements in a list. The main difference is that strings are unchangeable, while lists are changeable.\n",
        "\n",
        "7. How touple ensure data intigrity in python?\n",
        "  Ans. Tuples in Python are like boxes that you can put things in, but once you close the box, you can't change what's inside. This helps keep your data safe from accidental changes. They're great for storing fixed information that shouldn't be altered later.\n",
        "\n",
        "\n",
        "8. what is hash table and how it is realted to dictionary in python?\n",
        "\n",
        "  Ans. A hash table is a way to store data in pairs of keys and values, where a special function (called a hash function) turns each key into a unique number that decides where the pair will be stored. This allows for quick lookups, insertions, and deletions. In Python, dictionaries work using hash tables. When you use a dictionary, Python automatically uses a hash function to manage the keys and quickly find the corresponding values, making dictionary lookups very fast.\n",
        "\n",
        "\n",
        "9. Can lists contain different data types in Python?\n",
        "\n",
        "  Yes, lists in Python can store elements of different types, like numbers, strings, and even other lists or objects. This flexibility allows you to store varied data in one list.\n",
        "Example: my_list = [1, \"hello\", 3.14, [2, 3]]\n",
        "\n",
        "10. Explain why strings are immutable in Python.\n",
        "\n",
        "  Strings are immutable, meaning once created, their content cannot be changed. This ensures that strings are more efficient and safe in programs, especially when shared across different parts of the program.\n",
        "  Example: If you try to change a character in a string like s[0] = \"H\", Python will throw an error because strings cannot be modified.\n",
        "\n",
        "11. What advantages do dictionaries offer over lists for certain tasks?\n",
        "\n",
        "  Dictionaries allow you to store data in key-value pairs, making it faster to retrieve a value using a unique key rather than searching through a list. They are great for tasks that require quick lookups.\n",
        "  Example: If you want to map a name to a phone number, you can use a dictionary like this: phonebook = {\"Alice\": \"12345\", \"Bob\": \"67890\"}\n",
        "\n",
        "12. Describe a scenario where using a tuple would be preferable over a list.\n",
        "\n",
        "  Tuples are used when you want to store data that should not be changed after creation. This makes them useful for fixed data like coordinates or days of the week.\n",
        "  Example: coordinates = (10, 20) – You wouldn’t want to change these values once set.\n",
        "\n",
        "13. How do sets handle duplicate values in Python?\n",
        "  Sets automatically remove duplicate values. If you try to add a duplicate value, it will be ignored, ensuring all elements in a set are unique.\n",
        "  Example: my_set = {1, 2, 2, 3} – The set will become {1, 2, 3} as duplicates are removed.\n",
        "\n",
        "14. How does the “in” keyword work differently for lists and dictionaries?\n",
        "  In a list, the \"in\" keyword checks if a specific value is present. In a dictionary, it checks whether a key exists. In lists, it searches through the entire list; in dictionaries, it checks the key directly.\n",
        "  Example: For a list, 3 in [1, 2, 3] returns True, and for a dictionary, 'name' in {\"name\": \"Alice\"} returns True.\n",
        "\n",
        "15. Can you modify the elements of a tuple? Explain why or why not.\n",
        "  No, tuples are immutable, meaning you cannot change, add, or remove elements after creation. This makes tuples safer and more efficient for fixed data.\n",
        "  Example: Trying my_tuple[0] = 10 will result in an error because tuples cannot be changed.\n",
        "\n",
        "16. What is a nested dictionary, and give an example of its use case?\n",
        "  A nested dictionary is a dictionary where the values are other dictionaries. This allows you to organize data in a hierarchical way.\n",
        "  Example: students = {\"Alice\": {\"age\": 20, \"grade\": \"A\"}, \"Bob\": {\"age\": 22, \"grade\": \"B\"}} – Each student's details are stored in a nested dictionary.\n",
        "\n",
        "17. Describe the time complexity of accessing elements in a dictionary.\n",
        "\n",
        "  Accessing an element in a dictionary is very fast, with an average time complexity of O(1), meaning it takes constant time to get the value when you know the key.\n",
        "  Example: student = {\"name\": \"Alice\", \"age\": 20} – Accessing student[\"name\"] is done in constant time.\n",
        "\n",
        "18. In what situations are lists preferred over dictionaries?\n",
        "\n",
        "  Lists are preferred when you need to maintain the order of items or work with sequences where the position of elements matters.\n",
        "  Example: A list of numbers [1, 2, 3, 4] is used when you need to maintain the sequence and order of the items.\n",
        "\n",
        "19. Why are dictionaries considered unordered, and how does that affect data retrieval?\n",
        "\n",
        "  Dictionaries are unordered because they don’t store items in the order they were added. This means you cannot rely on the order when retrieving data, but you can quickly access values using keys.\n",
        "  Example: my_dict = {\"a\": 1, \"b\": 2} – The order of keys doesn’t matter when you access them, like my_dict[\"a\"] or my_dict[\"b\"].\n",
        "\n",
        "20. Explain the difference between a list and a dictionary in terms of data retrieval.\n",
        "\n",
        "  In a list, you retrieve data by its index position, while in a dictionary, you retrieve data using keys. Lists are ordered, so you can access elements based on their position; dictionaries are faster for looking up values by key.\n",
        "  Example: In a list, my_list[1] gives you the second item, while in a dictionary, my_dict[\"key\"] gives you the value associated with that key.\n",
        "\n"
      ],
      "metadata": {
        "id": "fympB4YPqwJn"
      }
    },
    {
      "cell_type": "code",
      "source": [
        "#Practical Questions and Answers ."
      ],
      "metadata": {
        "id": "Vv4c91Xx6Arp"
      },
      "execution_count": null,
      "outputs": []
    },
    {
      "cell_type": "code",
      "source": [
        "# 1. Create a string with your name and print it\n",
        "my_name = \"Parth \"\n",
        "print(my_name)\n"
      ],
      "metadata": {
        "colab": {
          "base_uri": "https://localhost:8080/"
        },
        "id": "caMklMoe5oxz",
        "outputId": "a6832ab9-1255-4151-d9d3-e5cd4dbaa899"
      },
      "execution_count": 4,
      "outputs": [
        {
          "output_type": "stream",
          "name": "stdout",
          "text": [
            "Parth \n"
          ]
        }
      ]
    },
    {
      "cell_type": "code",
      "source": [
        "# 2. Find the length of the string \"Hello World\"\n",
        "string_length = len(\"Hello World\")\n",
        "print(string_length)"
      ],
      "metadata": {
        "colab": {
          "base_uri": "https://localhost:8080/"
        },
        "id": "KjNWXCCj75DV",
        "outputId": "8228228e-904b-48b9-a7bb-af644f2ce75e"
      },
      "execution_count": 5,
      "outputs": [
        {
          "output_type": "stream",
          "name": "stdout",
          "text": [
            "11\n"
          ]
        }
      ]
    },
    {
      "cell_type": "code",
      "source": [
        "# 3. Slice the first 3 characters from the string \"Python Programming\"\n",
        "sliced_string = \"Python Programming\"[:3]\n",
        "print(sliced_string)"
      ],
      "metadata": {
        "colab": {
          "base_uri": "https://localhost:8080/"
        },
        "id": "qnK43Wpj74_J",
        "outputId": "d29d3414-48dc-4697-b6da-40c27d303463"
      },
      "execution_count": 6,
      "outputs": [
        {
          "output_type": "stream",
          "name": "stdout",
          "text": [
            "Pyt\n"
          ]
        }
      ]
    },
    {
      "cell_type": "code",
      "source": [
        "# 4. Convert the string \"hello\" to uppercase\n",
        "uppercase_string = \"hello\".upper()\n",
        "print(uppercase_string)"
      ],
      "metadata": {
        "colab": {
          "base_uri": "https://localhost:8080/"
        },
        "id": "vfXTUQ2c748U",
        "outputId": "f6c1083f-6fd5-4529-d192-df8959ff547f"
      },
      "execution_count": 7,
      "outputs": [
        {
          "output_type": "stream",
          "name": "stdout",
          "text": [
            "HELLO\n"
          ]
        }
      ]
    },
    {
      "cell_type": "code",
      "source": [
        "# 5. Replace the word \"apple\" with \"orange\" in the string \"I like apple\"\n",
        "replaced_string = \"I like apple\".replace(\"apple\", \"orange\")\n",
        "print(replaced_string)"
      ],
      "metadata": {
        "colab": {
          "base_uri": "https://localhost:8080/"
        },
        "id": "lC2KvDql745d",
        "outputId": "17871195-39e0-4d61-f50c-de2c95430073"
      },
      "execution_count": 8,
      "outputs": [
        {
          "output_type": "stream",
          "name": "stdout",
          "text": [
            "I like orange\n"
          ]
        }
      ]
    },
    {
      "cell_type": "code",
      "source": [
        "# 6. Create a list with numbers 1 to 5 and print it\n",
        "numbers_list = [1, 2, 3, 4, 5]\n",
        "print(numbers_list)"
      ],
      "metadata": {
        "colab": {
          "base_uri": "https://localhost:8080/"
        },
        "id": "zDGrr6V_7421",
        "outputId": "eace3ee6-7200-4b82-a4f9-7c4bb8d684b0"
      },
      "execution_count": 9,
      "outputs": [
        {
          "output_type": "stream",
          "name": "stdout",
          "text": [
            "[1, 2, 3, 4, 5]\n"
          ]
        }
      ]
    },
    {
      "cell_type": "code",
      "source": [
        "# 7. Append the number 10 to the list [1, 2, 3, 4]\n",
        "updated_list = [1, 2, 3, 4]\n",
        "updated_list.append(10)\n",
        "print(updated_list)"
      ],
      "metadata": {
        "colab": {
          "base_uri": "https://localhost:8080/"
        },
        "id": "MX0JPzZc740R",
        "outputId": "48cc59c5-c432-44c4-ec0b-d89d30cca45e"
      },
      "execution_count": 10,
      "outputs": [
        {
          "output_type": "stream",
          "name": "stdout",
          "text": [
            "[1, 2, 3, 4, 10]\n"
          ]
        }
      ]
    },
    {
      "cell_type": "code",
      "source": [
        "# 8. Remove the number 3 from the list [1, 2, 3, 4, 5]\n",
        "removal_list = [1, 2, 3, 4, 5]\n",
        "removal_list.remove(3)\n",
        "print(removal_list)"
      ],
      "metadata": {
        "colab": {
          "base_uri": "https://localhost:8080/"
        },
        "id": "Y2DRrmWY74pz",
        "outputId": "7fd78bd5-1b61-4380-caeb-1434ba54b995"
      },
      "execution_count": 12,
      "outputs": [
        {
          "output_type": "stream",
          "name": "stdout",
          "text": [
            "[1, 2, 4, 5]\n"
          ]
        }
      ]
    },
    {
      "cell_type": "code",
      "source": [
        "# 9. Access the second element in the list ['a', 'b', 'c', 'd']\n",
        "second_element = ['a', 'b', 'c', 'd'][1]\n",
        "print(second_element)"
      ],
      "metadata": {
        "colab": {
          "base_uri": "https://localhost:8080/"
        },
        "id": "xGpmPNX574nO",
        "outputId": "7e72cc3b-f855-46ae-f0f7-c0799b6586f0"
      },
      "execution_count": 13,
      "outputs": [
        {
          "output_type": "stream",
          "name": "stdout",
          "text": [
            "b\n"
          ]
        }
      ]
    },
    {
      "cell_type": "code",
      "source": [
        "# 10. Reverse the list [10, 20, 30, 40, 50]\n",
        "reversed_list = [10, 20, 30, 40, 50][::-1]\n",
        "print(reversed_list)"
      ],
      "metadata": {
        "colab": {
          "base_uri": "https://localhost:8080/"
        },
        "id": "MtW0wwRF74kG",
        "outputId": "50595847-d66e-4ad7-c448-b896bb1e7d52"
      },
      "execution_count": 16,
      "outputs": [
        {
          "output_type": "stream",
          "name": "stdout",
          "text": [
            "[50, 40, 30, 20, 10]\n"
          ]
        }
      ]
    },
    {
      "cell_type": "code",
      "source": [
        "# 11. Create a tuple with the elements 10, 20, 30 and print it\n",
        "parth_tuple = (10, 20, 30)\n",
        "print(parth_tuple)\n"
      ],
      "metadata": {
        "colab": {
          "base_uri": "https://localhost:8080/"
        },
        "id": "T2jX8snT8zlK",
        "outputId": "60b22ad3-d93a-4f6e-b128-d7ed40a925aa"
      },
      "execution_count": 20,
      "outputs": [
        {
          "output_type": "stream",
          "name": "stdout",
          "text": [
            "(10, 20, 30)\n"
          ]
        }
      ]
    },
    {
      "cell_type": "code",
      "source": [
        "# 12. Access the first element of the tuple ('apple', 'banana', 'cherry')\n",
        "first_element = ('apple', 'banana', 'cherry')[0]\n",
        "print(first_element)"
      ],
      "metadata": {
        "colab": {
          "base_uri": "https://localhost:8080/"
        },
        "id": "vDCDTFQn84Be",
        "outputId": "54b1a573-8189-4145-cf49-6d45da6ca538"
      },
      "execution_count": 21,
      "outputs": [
        {
          "output_type": "stream",
          "name": "stdout",
          "text": [
            "apple\n"
          ]
        }
      ]
    },
    {
      "cell_type": "code",
      "source": [
        "# 13. Count how many times the number 2 appears in the tuple (1, 2, 3, 2, 4, 2)\n",
        "count_of_two = (1, 2, 3, 2, 4, 2).count(2)\n",
        "print(count_of_two)"
      ],
      "metadata": {
        "colab": {
          "base_uri": "https://localhost:8080/"
        },
        "id": "DM0Zf11t83-1",
        "outputId": "81d7e60c-abed-4887-eb92-7811b0e5e68c"
      },
      "execution_count": 22,
      "outputs": [
        {
          "output_type": "stream",
          "name": "stdout",
          "text": [
            "3\n"
          ]
        }
      ]
    },
    {
      "cell_type": "code",
      "source": [
        "# 14. Find the index of the element \"cat\" in the tuple ('dog', 'cat', 'rabbit')\n",
        "cat_index = ('dog', 'cat', 'rabbit').index(\"cat\")\n",
        "print(cat_index)"
      ],
      "metadata": {
        "colab": {
          "base_uri": "https://localhost:8080/"
        },
        "id": "bSQ0SK8Q838Q",
        "outputId": "8b5d28da-da4e-4982-d1ad-00579fe409d1"
      },
      "execution_count": 23,
      "outputs": [
        {
          "output_type": "stream",
          "name": "stdout",
          "text": [
            "1\n"
          ]
        }
      ]
    },
    {
      "cell_type": "code",
      "source": [
        "# 15. Check if the element \"banana\" is in the tuple ('apple', 'orange', 'banana')\n",
        "is_banana_present = \"banana\" in ('apple', 'orange', 'banana')\n",
        "print(is_banana_present)"
      ],
      "metadata": {
        "colab": {
          "base_uri": "https://localhost:8080/"
        },
        "id": "ILkg1f6x83zZ",
        "outputId": "a1a460a2-c702-4bbc-d27e-66f2f7e7085b"
      },
      "execution_count": 24,
      "outputs": [
        {
          "output_type": "stream",
          "name": "stdout",
          "text": [
            "True\n"
          ]
        }
      ]
    },
    {
      "cell_type": "code",
      "source": [
        "# 16. Create a set with the elements 1, 2, 3, 4, 5 and print it\n",
        "my_set = {1, 2, 3, 4, 5}\n",
        "print(my_set)"
      ],
      "metadata": {
        "colab": {
          "base_uri": "https://localhost:8080/"
        },
        "id": "o24IDDGV83wj",
        "outputId": "dd881178-54c9-435a-9144-95543f47cebf"
      },
      "execution_count": 25,
      "outputs": [
        {
          "output_type": "stream",
          "name": "stdout",
          "text": [
            "{1, 2, 3, 4, 5}\n"
          ]
        }
      ]
    },
    {
      "cell_type": "code",
      "source": [
        "# 17. Add the element 6 to the set {1, 2, 3, 4}\n",
        "updated_set = {1, 2, 3, 4}\n",
        "updated_set.add(6)\n",
        "print(updated_set)"
      ],
      "metadata": {
        "colab": {
          "base_uri": "https://localhost:8080/"
        },
        "id": "T_Gko16Q83rU",
        "outputId": "faf70800-b066-46cc-fd68-6941e3a6156c"
      },
      "execution_count": 26,
      "outputs": [
        {
          "output_type": "stream",
          "name": "stdout",
          "text": [
            "{1, 2, 3, 4, 6}\n"
          ]
        }
      ]
    },
    {
      "cell_type": "code",
      "source": [
        "# 18. Create a tuple with the elements 10, 20, 30 and print it\n",
        "my_tuple_again = (10, 20, 30)\n",
        "print(my_tuple_again)"
      ],
      "metadata": {
        "colab": {
          "base_uri": "https://localhost:8080/"
        },
        "id": "uYzGez6e83oc",
        "outputId": "b6b3cc2c-b2e4-4472-cd4d-3e8ce96ed77f"
      },
      "execution_count": 27,
      "outputs": [
        {
          "output_type": "stream",
          "name": "stdout",
          "text": [
            "(10, 20, 30)\n"
          ]
        }
      ]
    },
    {
      "cell_type": "code",
      "source": [
        "# 19. Access the first element of the tuple ('apple', 'banana', 'cherry')\n",
        "first_element_again = ('apple', 'banana', 'cherry')[0]\n",
        "print(first_element_again)"
      ],
      "metadata": {
        "colab": {
          "base_uri": "https://localhost:8080/"
        },
        "id": "Jg8d6ZHK83ln",
        "outputId": "ec88a71b-888d-4317-9946-74ad787c4c37"
      },
      "execution_count": 28,
      "outputs": [
        {
          "output_type": "stream",
          "name": "stdout",
          "text": [
            "apple\n"
          ]
        }
      ]
    },
    {
      "cell_type": "code",
      "source": [
        "# 20. Count how many times the number 2 appears in the tuple (1, 2, 3, 2, 4, 2)\n",
        "count_of_two_again = (1, 2, 3, 2, 4, 2).count(2)\n",
        "print(count_of_two_again)"
      ],
      "metadata": {
        "colab": {
          "base_uri": "https://localhost:8080/"
        },
        "id": "V6kVNxpX83iu",
        "outputId": "ab23c94c-a723-470c-b25d-b83ab1772634"
      },
      "execution_count": 29,
      "outputs": [
        {
          "output_type": "stream",
          "name": "stdout",
          "text": [
            "3\n"
          ]
        }
      ]
    },
    {
      "cell_type": "code",
      "source": [
        "# 21. Find the index of the element \"cat\" in the tuple ('dog', 'cat', 'rabbit')\n",
        "cat_index_again = ('dog', 'cat', 'rabbit').index(\"cat\")\n",
        "print(cat_index_again)\n"
      ],
      "metadata": {
        "colab": {
          "base_uri": "https://localhost:8080/"
        },
        "id": "XZRxO_gk83f6",
        "outputId": "6c216c3d-bcbd-48d5-c789-143c229da05d"
      },
      "execution_count": 30,
      "outputs": [
        {
          "output_type": "stream",
          "name": "stdout",
          "text": [
            "1\n"
          ]
        }
      ]
    },
    {
      "cell_type": "code",
      "source": [
        "# 22. Check if the element \"banana\" is in the tuple ('apple', 'orange', 'banana')\n",
        "is_banana_present_again = \"banana\" in ('apple', 'orange', 'banana')\n",
        "print(is_banana_present_again)"
      ],
      "metadata": {
        "id": "flt4F21X83dS"
      },
      "execution_count": null,
      "outputs": []
    },
    {
      "cell_type": "code",
      "source": [
        "# 23. Create a set with the elements 1, 2, 3, 4, 5 and print it\n",
        "my_set_again = {1, 2, 3, 4, 5}\n",
        "print(my_set_again)\n"
      ],
      "metadata": {
        "colab": {
          "base_uri": "https://localhost:8080/"
        },
        "id": "GDm84Ixj83aq",
        "outputId": "ce15707c-ce55-4886-eac5-a7ac5f7cd685"
      },
      "execution_count": 31,
      "outputs": [
        {
          "output_type": "stream",
          "name": "stdout",
          "text": [
            "{1, 2, 3, 4, 5}\n"
          ]
        }
      ]
    },
    {
      "cell_type": "code",
      "source": [
        "# 24. Add the element 6 to the set {1, 2, 3, 4}\n",
        "updated_set_again = {1, 2, 3, 4}\n",
        "updated_set_again.add(6)\n",
        "print(updated_set_again)"
      ],
      "metadata": {
        "colab": {
          "base_uri": "https://localhost:8080/"
        },
        "id": "3ATS2NdB83Xh",
        "outputId": "0921e963-26b9-4ce8-dd2f-959d9586184d"
      },
      "execution_count": 32,
      "outputs": [
        {
          "output_type": "stream",
          "name": "stdout",
          "text": [
            "{1, 2, 3, 4, 6}\n"
          ]
        }
      ]
    }
  ]
}